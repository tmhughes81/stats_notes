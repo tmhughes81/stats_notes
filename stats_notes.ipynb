{
 "cells": [
  {
   "cell_type": "markdown",
   "metadata": {},
   "source": [
    "# Statistics Notes\n",
    "This notebook was drafted by Thomas M Hughes to provide a series of basic functions in Python for solving common problems in statistics.  It also includes some descriptions and notes, all for a central repository of information."
   ]
  },
  {
   "cell_type": "markdown",
   "metadata": {},
   "source": [
    "## Measures of Central Tendency\n",
    "### Mean\n",
    "The *mean* is the simple average of a distribution of numbers.\n",
    "\n",
    "### Median\n",
    "The *median* is the value that occurs at the exact middle of a distribution of numbers.  The distribution must be sorted.  If the median falls between two values, pick the value exactly between the two.\n",
    "\n",
    "### Mode\n",
    "The *mode* is the value that occurs most frequency in a list of numbers."
   ]
  },
  {
   "cell_type": "code",
   "execution_count": 21,
   "metadata": {
    "collapsed": false
   },
   "outputs": [],
   "source": [
    "# Mean takes a list of numbers, and returns the average value for that list\n",
    "def mean(l):\n",
    "    i = 0  # Counts the total number of elements in our list\n",
    "    t = 0. # Tracks the total sum of all values in the list\n",
    "    \n",
    "    for n in l:\n",
    "        t += n\n",
    "        i += 1\n",
    "    return t/i \n",
    "    \n",
    "# Takes a list of numbers and returns the value at the center of the distribution\n",
    "def median(l):\n",
    "    l.sort()    # Order matters in a median\n",
    "    ln = len(l) # Take the length calculation once and save it, since we use it a lot\n",
    "    \n",
    "    # If the number of elements in the distribution is even, find the value between the two middle values\n",
    "    if ln%2 == 0:\n",
    "        return (l[ln/2] + l[(ln/2)-1])/2.\n",
    "    \n",
    "    # Otherwise, the number of elements is odd, and we can just take the middle element\n",
    "    else:\n",
    "        return l[(ln/2)]\n",
    "\n",
    "# Takes a distribution of numbers, and returns the number that is most frequent in that distribution; \n",
    "# if multiple, takes smallest\n",
    "def mode(l):\n",
    "    d = {}\n",
    "    for n in l:\n",
    "        if n in d:\n",
    "            d[n]+=1\n",
    "        else:\n",
    "            d[n]=1\n",
    "    \n",
    "    \n",
    "    return max(d, key=d.get)"
   ]
  },
  {
   "cell_type": "code",
   "execution_count": 32,
   "metadata": {
    "collapsed": false
   },
   "outputs": [],
   "source": [
    "# Takes a dict of key:value as value:weight\n",
    "def weighted_mean(d):\n",
    "    wt = 0\n",
    "    for n, w in d.items():\n",
    "        wt += w\n",
    "    \n",
    "    t = 0\n",
    "    \n",
    "    for n, w in d.items():\n",
    "        t += n * (1.*w/wt)\n",
    "    \n",
    "    return t"
   ]
  },
  {
   "cell_type": "code",
   "execution_count": null,
   "metadata": {
    "collapsed": true
   },
   "outputs": [],
   "source": []
  }
 ],
 "metadata": {
  "kernelspec": {
   "display_name": "Python 2",
   "language": "python",
   "name": "python2"
  },
  "language_info": {
   "codemirror_mode": {
    "name": "ipython",
    "version": 2
   },
   "file_extension": ".py",
   "mimetype": "text/x-python",
   "name": "python",
   "nbconvert_exporter": "python",
   "pygments_lexer": "ipython2",
   "version": "2.7.13"
  }
 },
 "nbformat": 4,
 "nbformat_minor": 2
}

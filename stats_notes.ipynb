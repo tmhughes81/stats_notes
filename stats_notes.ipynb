{
 "cells": [
  {
   "cell_type": "markdown",
   "metadata": {},
   "source": [
    "# Statistics Notes\n",
    "This notebook was drafted by Thomas M Hughes to provide a series of basic functions in Python for solving common problems in statistics.  It also includes some descriptions and notes, all for a central repository of information."
   ]
  },
  {
   "cell_type": "code",
   "execution_count": null,
   "metadata": {
    "collapsed": true
   },
   "outputs": [],
   "source": [
    "## Hacker Rank Read from stdin\n",
    "import sys\n",
    "\n",
    "N = int(sys.stdin.readline())\n",
    "nums = [int(n) for n in sys.stdin.readline().split()]"
   ]
  },
  {
   "cell_type": "markdown",
   "metadata": {},
   "source": [
    "## Measures of Central Tendency\n",
    "### Mean\n",
    "The *mean* is the simple average of a distribution of numbers.\n",
    "\n",
    "### Median\n",
    "The *median* is the value that occurs at the exact middle of a distribution of numbers.  The distribution must be sorted.  If the median falls between two values, pick the value exactly between the two.\n",
    "\n",
    "### Mode\n",
    "The *mode* is the value that occurs most frequency in a list of numbers."
   ]
  },
  {
   "cell_type": "code",
   "execution_count": null,
   "metadata": {
    "collapsed": false
   },
   "outputs": [],
   "source": [
    "# Mean takes a list of numbers, and returns the average value for that list\n",
    "def mean(l):\n",
    "    return sum(l)/len(l) \n",
    "    \n",
    "# Takes a list of numbers and returns the value at the center of the distribution\n",
    "def median(l):\n",
    "    l.sort()    # Order matters in a median\n",
    "    ln = len(l) # Take the length calculation once and save it, since we use it a lot\n",
    "    \n",
    "    # If the number of elements in the distribution is even, find the value between the two middle values\n",
    "    if ln%2 == 0:\n",
    "        return (l[ln/2] + l[(ln/2)-1])/2.\n",
    "    \n",
    "    # Otherwise, the number of elements is odd, and we can just take the middle element\n",
    "    else:\n",
    "        return 1.*l[(ln/2)]\n",
    "\n",
    "# Takes a distribution of numbers, and returns the number that is most frequent in that distribution; \n",
    "# if multiple, takes smallest\n",
    "def mode(l):\n",
    "    l.sort()\n",
    "    d = {}\n",
    "    for n in l:\n",
    "        if n in d:\n",
    "            d[n]+=1\n",
    "        else:\n",
    "            d[n]=1\n",
    "    \n",
    "    \n",
    "    return max(d, key=d.get)"
   ]
  },
  {
   "cell_type": "code",
   "execution_count": null,
   "metadata": {
    "collapsed": false
   },
   "outputs": [],
   "source": [
    "# Takes a dict of key:value as value:weight\n",
    "def weighted_mean(d):\n",
    "    wt = 0\n",
    "    for n, w in d.items():\n",
    "        wt += w\n",
    "    \n",
    "    t = 0\n",
    "    \n",
    "    for n, w in d.items():\n",
    "        t += n * (1.*w/wt)\n",
    "    \n",
    "    return t"
   ]
  },
  {
   "cell_type": "code",
   "execution_count": null,
   "metadata": {
    "collapsed": false
   },
   "outputs": [],
   "source": [
    "def quartiles(l):\n",
    "    l.sort()\n",
    "    Q2 = median(l)\n",
    "    \n",
    "    ln = len(l)\n",
    "    \n",
    "    if ln %2 != 0:\n",
    "        l.remove(Q2)\n",
    "    \n",
    "    Q1 = median(l[:ln/2])\n",
    "    Q3 = median(l[ln/2:])\n",
    "    \n",
    "    return Q1, Q2, Q3\n",
    "    "
   ]
  },
  {
   "cell_type": "code",
   "execution_count": null,
   "metadata": {
    "collapsed": true
   },
   "outputs": [],
   "source": [
    "def IQR(l):\n",
    "    q1, q2, q3 = quartiles(l)\n",
    "    \n",
    "    return q3-q1"
   ]
  },
  {
   "cell_type": "code",
   "execution_count": null,
   "metadata": {
    "collapsed": false
   },
   "outputs": [],
   "source": [
    "def variance(l):\n",
    "    mu = mean(l)\n",
    "    n = 1.*len(l)\n",
    "        \n",
    "    t = sum([(v-mu)**2 for v in l])\n",
    "    \n",
    "    return t/n\n",
    "    \n",
    "def stdev(l):\n",
    "    return variance(l)**(1./2)"
   ]
  },
  {
   "cell_type": "code",
   "execution_count": null,
   "metadata": {
    "collapsed": true
   },
   "outputs": [],
   "source": [
    "from operator import mul\n",
    "\n",
    "def product(i):\n",
    "    return reduce(mul, i, 1)\n",
    "\n",
    "def compound_event_probability(l):\n",
    "    return product(l)"
   ]
  },
  {
   "cell_type": "markdown",
   "metadata": {},
   "source": [
    "### Binomial Variables and Distributions"
   ]
  },
  {
   "cell_type": "code",
   "execution_count": null,
   "metadata": {
    "collapsed": false
   },
   "outputs": [],
   "source": [
    "def factorial(x):\n",
    "    return product(range(2,x+1))\n",
    "        \n",
    "def combination(n, x):\n",
    "    return factorial(n)/(factorial(x)*factorial(n-x))\n",
    "\n",
    "# Getting exactly x instances out of n cases, where x has probability p for each case\n",
    "def binomial_probability(x, n, p):\n",
    "    q = 1 - p\n",
    "    return combination(n, x) * p ** x * q ** (n-x)\n",
    "\n",
    "def at_least_binomial_probability(r, n, p):\n",
    "    i = range(r, n+1)\n",
    "\n",
    "    return sum([binomial_probability(v, n, p) for v in i])\n",
    "\n",
    "def at_most_binomial_probability(r, n, p):\n",
    "    i = range(0, r+1)\n",
    "    \n",
    "    return sum([binomial_probability(v, n, p) for v in i])"
   ]
  },
  {
   "cell_type": "code",
   "execution_count": null,
   "metadata": {
    "collapsed": true
   },
   "outputs": [],
   "source": [
    "# If X is the number of experiments until the xth success occurs, \n",
    "# then X is a discrete random variable called a negative binomial. \n",
    "def negative_binomial(x, n, p):\n",
    "    q = 1 - p\n",
    "    return (combination((n-1), (x-1))*p**x*q**(n-x))\n",
    "\n",
    "# A Geometric Distribution is a negative binomial with exactly one success.\n",
    "# 'n' is number of trials, 'p' is probability per trial\n",
    "def geometric_distribution(n, p):\n",
    "    return negative_binomial(1, n, p)\n",
    "\n",
    "# Cumulative geometric -- success within first n trials\n",
    "def cumulative_geometric_distribution(n, p):\n",
    "    return sum([geometric_distribution(v, p) for v in range(1,n+1)])"
   ]
  },
  {
   "cell_type": "code",
   "execution_count": null,
   "metadata": {
    "collapsed": true
   },
   "outputs": [],
   "source": [
    "# Probably of getting exactly k successes when average number of successes is lda\n",
    "def poisson_distribution(k, lda):\n",
    "    return lda**k*e**(-1*lda) / factorial(k)"
   ]
  },
  {
   "cell_type": "code",
   "execution_count": null,
   "metadata": {
    "collapsed": false
   },
   "outputs": [],
   "source": [
    "import math\n",
    "e = math.e\n",
    "pi = math.pi\n",
    "\n",
    "def normal_distribution_probability_density(x, mu, var):\n",
    "    return (1./(var**(1./2)*(2.*pi)**(1./2)))*e**(-1.*(x-mu)**2./(2.*var))"
   ]
  },
  {
   "cell_type": "code",
   "execution_count": null,
   "metadata": {
    "collapsed": false
   },
   "outputs": [],
   "source": [
    "# Cumulative Density Function\n",
    "def cdf(x, mu, var):\n",
    "    return (1./2)*(1+math.erf((x-mu)/(var**(1./2)*2**(1./2))))\n",
    "\n",
    "def cdf_range(x, y, mu, var):\n",
    "    return cdf(y, mu, var)-cdf(x, mu, var)"
   ]
  },
  {
   "cell_type": "code",
   "execution_count": null,
   "metadata": {
    "collapsed": false
   },
   "outputs": [],
   "source": []
  },
  {
   "cell_type": "code",
   "execution_count": null,
   "metadata": {
    "collapsed": true
   },
   "outputs": [],
   "source": []
  }
 ],
 "metadata": {
  "kernelspec": {
   "display_name": "Python 2",
   "language": "python",
   "name": "python2"
  },
  "language_info": {
   "codemirror_mode": {
    "name": "ipython",
    "version": 2
   },
   "file_extension": ".py",
   "mimetype": "text/x-python",
   "name": "python",
   "nbconvert_exporter": "python",
   "pygments_lexer": "ipython2",
   "version": "2.7.13"
  }
 },
 "nbformat": 4,
 "nbformat_minor": 2
}

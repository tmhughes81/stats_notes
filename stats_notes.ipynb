{
 "cells": [
  {
   "cell_type": "markdown",
   "metadata": {},
   "source": [
    "# Statistics Notes\n",
    "This notebook was drafted by Thomas M Hughes to provide a series of basic functions in Python for solving common problems in statistics.  It also includes some descriptions and notes, all for a central repository of information."
   ]
  },
  {
   "cell_type": "code",
   "execution_count": null,
   "metadata": {
    "collapsed": true
   },
   "outputs": [],
   "source": [
    "## Hacker Rank Read from stdin\n",
    "import sys\n",
    "\n",
    "N = int(sys.stdin.readline())\n",
    "nums = [int(n) for n in sys.stdin.readline().split()]"
   ]
  },
  {
   "cell_type": "markdown",
   "metadata": {},
   "source": [
    "## Measures of Central Tendency\n",
    "### Mean\n",
    "The *mean* is the simple average of a distribution of numbers.\n",
    "\n",
    "### Median\n",
    "The *median* is the value that occurs at the exact middle of a distribution of numbers.  The distribution must be sorted.  If the median falls between two values, pick the value exactly between the two.\n",
    "\n",
    "### Mode\n",
    "The *mode* is the value that occurs most frequency in a list of numbers."
   ]
  },
  {
   "cell_type": "code",
   "execution_count": null,
   "metadata": {
    "collapsed": false
   },
   "outputs": [],
   "source": [
    "# Mean takes a list of numbers, and returns the average value for that list\n",
    "def mean(l):\n",
    "    i = 0  # Counts the total number of elements in our list\n",
    "    t = 0. # Tracks the total sum of all values in the list\n",
    "    \n",
    "    for n in l:\n",
    "        t += n\n",
    "        i += 1\n",
    "    return t/i \n",
    "    \n",
    "# Takes a list of numbers and returns the value at the center of the distribution\n",
    "def median(l):\n",
    "    l.sort()    # Order matters in a median\n",
    "    ln = len(l) # Take the length calculation once and save it, since we use it a lot\n",
    "    \n",
    "    # If the number of elements in the distribution is even, find the value between the two middle values\n",
    "    if ln%2 == 0:\n",
    "        return (l[ln/2] + l[(ln/2)-1])/2.\n",
    "    \n",
    "    # Otherwise, the number of elements is odd, and we can just take the middle element\n",
    "    else:\n",
    "        return 1.*l[(ln/2)]\n",
    "\n",
    "# Takes a distribution of numbers, and returns the number that is most frequent in that distribution; \n",
    "# if multiple, takes smallest\n",
    "def mode(l):\n",
    "    d = {}\n",
    "    for n in l:\n",
    "        if n in d:\n",
    "            d[n]+=1\n",
    "        else:\n",
    "            d[n]=1\n",
    "    \n",
    "    \n",
    "    return max(d, key=d.get)"
   ]
  },
  {
   "cell_type": "code",
   "execution_count": null,
   "metadata": {
    "collapsed": false
   },
   "outputs": [],
   "source": [
    "# Takes a dict of key:value as value:weight\n",
    "def weighted_mean(d):\n",
    "    wt = 0\n",
    "    for n, w in d.items():\n",
    "        wt += w\n",
    "    \n",
    "    t = 0\n",
    "    \n",
    "    for n, w in d.items():\n",
    "        t += n * (1.*w/wt)\n",
    "    \n",
    "    return t"
   ]
  },
  {
   "cell_type": "code",
   "execution_count": null,
   "metadata": {
    "collapsed": false
   },
   "outputs": [],
   "source": [
    "def quartiles(l):\n",
    "    l.sort()\n",
    "    Q2 = median(l)\n",
    "    \n",
    "    ln = len(l)\n",
    "    \n",
    "    if ln %2 != 0:\n",
    "        l.remove(Q2)\n",
    "    \n",
    "    Q1 = median(l[:ln/2])\n",
    "    Q3 = median(l[ln/2:])\n",
    "    \n",
    "    return Q1, Q2, Q3\n",
    "    "
   ]
  },
  {
   "cell_type": "code",
   "execution_count": null,
   "metadata": {
    "collapsed": true
   },
   "outputs": [],
   "source": [
    "def IQR(l):\n",
    "    q1, q2, q3 = quartiles(l)\n",
    "    \n",
    "    return q3-q1\n",
    "\n"
   ]
  },
  {
   "cell_type": "code",
   "execution_count": null,
   "metadata": {
    "collapsed": true
   },
   "outputs": [],
   "source": [
    "def variance(l):\n",
    "    mu = mean(l)\n",
    "    n = 1.*len(l)\n",
    "    \n",
    "    t = 0\n",
    "    for v in l:\n",
    "        t += (v-mu)**2\n",
    "    \n",
    "    return t/n\n",
    "    \n",
    "    \n",
    "def stdev(l):\n",
    "    return variance(l)**(1./2)\n",
    "    \n",
    "    "
   ]
  },
  {
   "cell_type": "code",
   "execution_count": null,
   "metadata": {
    "collapsed": true
   },
   "outputs": [],
   "source": [
    "def compound_event_probability(l):\n",
    "    t = 1\n",
    "    \n",
    "    for n in l:\n",
    "        t*=n\n",
    "    \n",
    "    return t"
   ]
  },
  {
   "cell_type": "markdown",
   "metadata": {},
   "source": [
    "### Binomial Variables and Distributions"
   ]
  },
  {
   "cell_type": "code",
   "execution_count": null,
   "metadata": {
    "collapsed": true
   },
   "outputs": [],
   "source": [
    "def factorial(x):\n",
    "    t = 1\n",
    "    while x > 1:\n",
    "        t *= x\n",
    "        x -= 1\n",
    "    \n",
    "    return t\n",
    "\n",
    "def combination(n, x):\n",
    "    return factorial(n)/(factorial(x)*factorial(n-x))\n",
    "\n",
    "# Getting exactly x instances out of n cases, where x has probability p for each case\n",
    "def binomial_probability(x, n, p):\n",
    "    q = 1 - p\n",
    "    return combination(n, x) * p ** x * q ** (n-x)\n",
    "\n",
    "def at_least_binomial_probability(r, n, p):\n",
    "    t = 0\n",
    "    for i in range(r, n+1):\n",
    "        t+= binomial_probability(i, n, p)\n",
    "    return t\n",
    "\n",
    "def at_most_binomial_probability(r, n, p):\n",
    "    t = 0\n",
    "    for i in range(0, r):\n",
    "        t += binomial_probability(i, n, p)\n",
    "    \n",
    "    return t"
   ]
  },
  {
   "cell_type": "code",
   "execution_count": null,
   "metadata": {
    "collapsed": true
   },
   "outputs": [],
   "source": []
  }
 ],
 "metadata": {
  "kernelspec": {
   "display_name": "Python 2",
   "language": "python",
   "name": "python2"
  },
  "language_info": {
   "codemirror_mode": {
    "name": "ipython",
    "version": 2
   },
   "file_extension": ".py",
   "mimetype": "text/x-python",
   "name": "python",
   "nbconvert_exporter": "python",
   "pygments_lexer": "ipython2",
   "version": "2.7.13"
  }
 },
 "nbformat": 4,
 "nbformat_minor": 2
}
